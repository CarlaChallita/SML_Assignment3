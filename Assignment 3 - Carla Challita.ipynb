{
 "cells": [
  {
   "cell_type": "markdown",
   "id": "4ab7defb",
   "metadata": {},
   "source": [
    "# Carla Challita "
   ]
  },
  {
   "cell_type": "markdown",
   "id": "6b36a63e",
   "metadata": {},
   "source": [
    "## Chapters 5 - 6 -7"
   ]
  },
  {
   "cell_type": "markdown",
   "id": "97f3be1d",
   "metadata": {},
   "source": [
    "### Chapter 5 - Exercise 3 "
   ]
  },
  {
   "cell_type": "code",
   "execution_count": 79,
   "id": "b00c2aac",
   "metadata": {},
   "outputs": [],
   "source": [
    "#Part a - reference: An Introduction to Statiscal Learning\n",
    "#The k-fold cross-validation is implemented by randomly dividing the set of observations into k groups, or folds, \n",
    "#of approximately equal size. The first fold is treated as a validation set, and the method is fit on the remaining k − 1 folds. \n",
    "#The mean squared error, MSE1, is then computed on the observations in the held-out fold. This procedure is repeated k times;\n",
    "#each time, a different group of observations is treated as a validation set. This process results in k estimates of the test\n",
    "#error, MSE1, MSE2, . . . , MSEk. The k-fold CV estimate is computed by averaging these values."
   ]
  },
  {
   "cell_type": "code",
   "execution_count": 80,
   "id": "e5b812d0",
   "metadata": {},
   "outputs": [],
   "source": [
    "#Part b-i\n",
    "#Advantages: conceptually simple and easy to implement \n",
    "#Disadvantages: the MSE can be highly variable and only a subset of observations are used to fit the model, so the validation\n",
    "#set error may overestimate the test error rate for the model."
   ]
  },
  {
   "cell_type": "code",
   "execution_count": 81,
   "id": "cd246bca",
   "metadata": {},
   "outputs": [],
   "source": [
    "#Part b-ii\n",
    "#Advantages: Less bias. The statistical learning method is repeatedly fit using training data that contains n-1\n",
    "#observations, so almost all the data set is used. \n",
    "#Disadvantage: Computationally intensive"
   ]
  },
  {
   "cell_type": "markdown",
   "id": "7e750ac9",
   "metadata": {},
   "source": [
    "### Chapter 5 - Exercise 8"
   ]
  },
  {
   "cell_type": "code",
   "execution_count": 82,
   "id": "add4bbf6",
   "metadata": {},
   "outputs": [],
   "source": [
    "#Part a\n",
    "set.seed(1)\n",
    "x <- rnorm(100)\n",
    "y <- x-2*x^2+rnorm(100)\n",
    "#According to the above, n=100 and p=2 "
   ]
  },
  {
   "cell_type": "code",
   "execution_count": 83,
   "id": "42bfee1e",
   "metadata": {},
   "outputs": [
    {
     "data": {
      "image/png": "[encoded data removed]",
      "text/plain": [
       "plot without title"
      ]
     },
     "metadata": {},
     "output_type": "display_data"
    }
   ],
   "source": [
    "#Part b\n",
    "plot(x,y)\n",
    "#There is a curved relationship between x and y according to the scatterplot"
   ]
  },
  {
   "cell_type": "code",
   "execution_count": 84,
   "id": "6388d212",
   "metadata": {},
   "outputs": [],
   "source": [
    "#Part c\n",
    "library(boot)\n",
    "set.seed(1)\n",
    "data <- data.frame(x, y)"
   ]
  },
  {
   "cell_type": "code",
   "execution_count": 85,
   "id": "5df4cadf",
   "metadata": {},
   "outputs": [
    {
     "data": {
      "text/html": [
       "7.28816160667281"
      ],
      "text/latex": [
       "7.28816160667281"
      ],
      "text/markdown": [
       "7.28816160667281"
      ],
      "text/plain": [
       "[1] 7.288162"
      ]
     },
     "metadata": {},
     "output_type": "display_data"
    }
   ],
   "source": [
    "#Part i\n",
    "glm_1 <- glm(y ~ x)\n",
    "cv_error_1 <- cv.glm(data, glm_1)$delta[1]\n",
    "cv_error_1"
   ]
  },
  {
   "cell_type": "code",
   "execution_count": 86,
   "id": "d85f7464",
   "metadata": {},
   "outputs": [
    {
     "data": {
      "text/html": [
       "0.937423637615552"
      ],
      "text/latex": [
       "0.937423637615552"
      ],
      "text/markdown": [
       "0.937423637615552"
      ],
      "text/plain": [
       "[1] 0.9374236"
      ]
     },
     "metadata": {},
     "output_type": "display_data"
    }
   ],
   "source": [
    "#Part ii \n",
    "glm_2 <- glm(y ~ poly(x,2))\n",
    "cv_error_2 <- cv.glm(data, glm_2)$delta[1]\n",
    "cv_error_2"
   ]
  },
  {
   "cell_type": "code",
   "execution_count": 87,
   "id": "613afc1c",
   "metadata": {},
   "outputs": [
    {
     "data": {
      "text/html": [
       "0.956621830108939"
      ],
      "text/latex": [
       "0.956621830108939"
      ],
      "text/markdown": [
       "0.956621830108939"
      ],
      "text/plain": [
       "[1] 0.9566218"
      ]
     },
     "metadata": {},
     "output_type": "display_data"
    }
   ],
   "source": [
    "#Part iii \n",
    "glm_3 <- glm(y ~ poly(x,3))\n",
    "cv_error_3 <- cv.glm(data, glm_3)$delta[1]\n",
    "cv_error_3"
   ]
  },
  {
   "cell_type": "code",
   "execution_count": 88,
   "id": "98b318af",
   "metadata": {},
   "outputs": [
    {
     "data": {
      "text/html": [
       "0.953904892744804"
      ],
      "text/latex": [
       "0.953904892744804"
      ],
      "text/markdown": [
       "0.953904892744804"
      ],
      "text/plain": [
       "[1] 0.9539049"
      ]
     },
     "metadata": {},
     "output_type": "display_data"
    }
   ],
   "source": [
    "#Part iv\n",
    "glm_4 <- glm(y ~ poly(x,4))\n",
    "cv_error_4 <- cv.glm(data, glm_4)$delta[1]\n",
    "cv_error_4"
   ]
  },
  {
   "cell_type": "code",
   "execution_count": 89,
   "id": "e1841585",
   "metadata": {},
   "outputs": [],
   "source": [
    "#Part d\n",
    "set.seed(123)\n",
    "data <- data.frame(x, y)"
   ]
  },
  {
   "cell_type": "code",
   "execution_count": 90,
   "id": "a0919e30",
   "metadata": {},
   "outputs": [
    {
     "data": {
      "text/html": [
       "7.28816160667281"
      ],
      "text/latex": [
       "7.28816160667281"
      ],
      "text/markdown": [
       "7.28816160667281"
      ],
      "text/plain": [
       "[1] 7.288162"
      ]
     },
     "metadata": {},
     "output_type": "display_data"
    }
   ],
   "source": [
    "#Part i\n",
    "glm_1 <- glm(y ~ x)\n",
    "cv_error_1 <- cv.glm(data, glm_1)$delta[1]\n",
    "cv_error_1"
   ]
  },
  {
   "cell_type": "code",
   "execution_count": 91,
   "id": "bf8fe6df",
   "metadata": {},
   "outputs": [
    {
     "data": {
      "text/html": [
       "0.937423637615552"
      ],
      "text/latex": [
       "0.937423637615552"
      ],
      "text/markdown": [
       "0.937423637615552"
      ],
      "text/plain": [
       "[1] 0.9374236"
      ]
     },
     "metadata": {},
     "output_type": "display_data"
    }
   ],
   "source": [
    "#Part ii \n",
    "glm_2 <- glm(y ~ poly(x,2))\n",
    "cv_error_2 <- cv.glm(data, glm_2)$delta[1]\n",
    "cv_error_2"
   ]
  },
  {
   "cell_type": "code",
   "execution_count": 92,
   "id": "aabe3870",
   "metadata": {},
   "outputs": [
    {
     "data": {
      "text/html": [
       "0.956621830108939"
      ],
      "text/latex": [
       "0.956621830108939"
      ],
      "text/markdown": [
       "0.956621830108939"
      ],
      "text/plain": [
       "[1] 0.9566218"
      ]
     },
     "metadata": {},
     "output_type": "display_data"
    }
   ],
   "source": [
    "#Part iii \n",
    "glm_3 <- glm(y ~ poly(x,3))\n",
    "cv_error_3 <- cv.glm(data, glm_3)$delta[1]\n",
    "cv_error_3"
   ]
  },
  {
   "cell_type": "code",
   "execution_count": 93,
   "id": "9c501c95",
   "metadata": {},
   "outputs": [
    {
     "data": {
      "text/html": [
       "0.953904892744804"
      ],
      "text/latex": [
       "0.953904892744804"
      ],
      "text/markdown": [
       "0.953904892744804"
      ],
      "text/plain": [
       "[1] 0.9539049"
      ]
     },
     "metadata": {},
     "output_type": "display_data"
    }
   ],
   "source": [
    "#Part iv\n",
    "glm_4 <- glm(y ~ poly(x,4))\n",
    "cv_error_4 <- cv.glm(data, glm_4)$delta[1]\n",
    "cv_error_4"
   ]
  },
  {
   "cell_type": "code",
   "execution_count": 94,
   "id": "f56c4144",
   "metadata": {},
   "outputs": [],
   "source": [
    "#The results are identical even after changing the random seed since LOOCV evaluates n folds of a single observation"
   ]
  },
  {
   "cell_type": "code",
   "execution_count": 95,
   "id": "a6492444",
   "metadata": {},
   "outputs": [],
   "source": [
    "#Part e\n",
    "#glm_2 had the smallest LOOCV error in part c which makes sense since the scatter plot in part b showed a quadratic relationship\n",
    "#between x and y, which is the nature of the equation in part c-ii"
   ]
  },
  {
   "cell_type": "code",
   "execution_count": 96,
   "id": "922491a6",
   "metadata": {},
   "outputs": [
    {
     "data": {
      "text/plain": [
       "\n",
       "Call:\n",
       "glm(formula = y ~ poly(x, 4))\n",
       "\n",
       "Deviance Residuals: \n",
       "    Min       1Q   Median       3Q      Max  \n",
       "-2.0550  -0.6212  -0.1567   0.5952   2.2267  \n",
       "\n",
       "Coefficients:\n",
       "             Estimate Std. Error t value Pr(>|t|)    \n",
       "(Intercept)  -1.55002    0.09591 -16.162  < 2e-16 ***\n",
       "poly(x, 4)1   6.18883    0.95905   6.453 4.59e-09 ***\n",
       "poly(x, 4)2 -23.94830    0.95905 -24.971  < 2e-16 ***\n",
       "poly(x, 4)3   0.26411    0.95905   0.275    0.784    \n",
       "poly(x, 4)4   1.25710    0.95905   1.311    0.193    \n",
       "---\n",
       "Signif. codes:  0 '***' 0.001 '**' 0.01 '*' 0.05 '.' 0.1 ' ' 1\n",
       "\n",
       "(Dispersion parameter for gaussian family taken to be 0.9197797)\n",
       "\n",
       "    Null deviance: 700.852  on 99  degrees of freedom\n",
       "Residual deviance:  87.379  on 95  degrees of freedom\n",
       "AIC: 282.3\n",
       "\n",
       "Number of Fisher Scoring iterations: 2\n"
      ]
     },
     "metadata": {},
     "output_type": "display_data"
    }
   ],
   "source": [
    "#Part f\n",
    "summary(glm_4)"
   ]
  },
  {
   "cell_type": "code",
   "execution_count": 97,
   "id": "8dbb9027",
   "metadata": {},
   "outputs": [],
   "source": [
    "#The above results show that the p-values are significant for the 1st and 2nd degree models, and insignificant for the 3rd and\n",
    "#4th degree models. This emphasizes the results from the cross-validation which showed the smallest LOOCV error was for the\n",
    "#model of the 2nd degree."
   ]
  },
  {
   "cell_type": "markdown",
   "id": "1adf50ab",
   "metadata": {},
   "source": [
    "### Chapter 6 - Exercise 1"
   ]
  },
  {
   "cell_type": "code",
   "execution_count": 98,
   "id": "d215f443",
   "metadata": {},
   "outputs": [],
   "source": [
    "#Part a\n",
    "#The model with best subset has the smallest training RSS since it considers every possible model with k predictrors. "
   ]
  },
  {
   "cell_type": "code",
   "execution_count": 99,
   "id": "4a83136c",
   "metadata": {},
   "outputs": [],
   "source": [
    "#Part b\n",
    "#It woulnd't be accurate to say one method definitely has the smallest test RSS since the model with the best subset could have \n",
    "#the smallest test RSS since it considers every possible model with k predictors, but the other methods could also have the \n",
    "#smallest test RSS by luck."
   ]
  },
  {
   "cell_type": "code",
   "execution_count": 100,
   "id": "41b50c40",
   "metadata": {},
   "outputs": [],
   "source": [
    "#Part c\n",
    "\n",
    "#Part i\n",
    "#True since the model with (k+1) predictors is obtained by adding one additional predictor to the model with k predictors.\n",
    "\n",
    "#Part ii\n",
    "#True since the model with k predictors is obtained by removing one predictor from the model with (k+1) predictors.\n",
    "\n",
    "#Part iii\n",
    "#False since there is no direct relationship between the models obtained from forward and backward selection.\n",
    "\n",
    "#Part iv\n",
    "#False since there is no direct relationship between the models obtained from forward and backward selection\n",
    "\n",
    "#Part v\n",
    "#False since the model with (k+1) predictors is obtained by selecting among all possible models with (k+1) predictors, therefore \n",
    "#it does not definitely have all the predictors that are selected for the k-variable model."
   ]
  },
  {
   "cell_type": "markdown",
   "id": "1135e1d2",
   "metadata": {},
   "source": [
    "### Chapter 6 - Exercise 9"
   ]
  },
  {
   "cell_type": "code",
   "execution_count": 101,
   "id": "c6b3e7fc",
   "metadata": {},
   "outputs": [],
   "source": [
    "library(ISLR)\n",
    "data(College)\n",
    "set.seed(1)"
   ]
  },
  {
   "cell_type": "code",
   "execution_count": 102,
   "id": "1beb605e",
   "metadata": {},
   "outputs": [],
   "source": [
    "#Part a\n",
    "data_split <- sample(1:nrow(College), nrow(College)/2)\n",
    "train <- College[data_split,]\n",
    "test <- College[-data_split,]"
   ]
  },
  {
   "cell_type": "code",
   "execution_count": 103,
   "id": "bf165e3c",
   "metadata": {},
   "outputs": [
    {
     "data": {
      "text/html": [
       "1135758.31783053"
      ],
      "text/latex": [
       "1135758.31783053"
      ],
      "text/markdown": [
       "1135758.31783053"
      ],
      "text/plain": [
       "[1] 1135758"
      ]
     },
     "metadata": {},
     "output_type": "display_data"
    }
   ],
   "source": [
    "#Part b\n",
    "lm <- lm(Apps ~ ., data = train)\n",
    "lm_pred <- predict(lm, test)\n",
    "lm_err <- mean((test$Apps - lm_pred)^2)\n",
    "lm_err"
   ]
  },
  {
   "cell_type": "code",
   "execution_count": 104,
   "id": "e957fe63",
   "metadata": {},
   "outputs": [
    {
     "data": {
      "text/html": [
       "1164319.47383325"
      ],
      "text/latex": [
       "1164319.47383325"
      ],
      "text/markdown": [
       "1164319.47383325"
      ],
      "text/plain": [
       "[1] 1164319"
      ]
     },
     "metadata": {},
     "output_type": "display_data"
    }
   ],
   "source": [
    "#Part c\n",
    "library(glmnet)\n",
    "\n",
    "train_x <- model.matrix(Apps ~ ., data = train)\n",
    "train_y <- train[, \"Apps\"]\n",
    "test_x <- model.matrix(Apps ~ ., data = test)\n",
    "test_y <- test[, \"Apps\"]\n",
    "\n",
    "grid <- 10 ^ seq(4, -2, length = 100)\n",
    "ridge.mod <- glmnet(train_x, train_y, alpha = 0, lambda = grid, thresh = 1e-12)\n",
    "lambda.best <- ridge.mod$lambda.min\n",
    "ridge.pred <- predict(ridge.mod, s = lambda.best, newx = test_x)\n",
    "ridge.err <- mean((ridge.pred - test_y)^2)\n",
    "ridge.err"
   ]
  },
  {
   "cell_type": "code",
   "execution_count": 105,
   "id": "6c138cf9",
   "metadata": {},
   "outputs": [
    {
     "data": {
      "text/html": [
       "1135646.3142454"
      ],
      "text/latex": [
       "1135646.3142454"
      ],
      "text/markdown": [
       "1135646.3142454"
      ],
      "text/plain": [
       "[1] 1135646"
      ]
     },
     "metadata": {},
     "output_type": "display_data"
    }
   ],
   "source": [
    "#Part d\n",
    "lasso.mod <- glmnet(train_x, train_y, alpha = 1, lambda = grid, thresh = 1e-12)\n",
    "lasso.cv <- cv.glmnet(train_x, train_y, alpha = 1, lambda = grid, thresh = 1e-12)\n",
    "lambda.best <- lasso.cv$lambda.min\n",
    "lasso.pred <- predict(lasso.mod, s = lambda.best, newx = test_x)\n",
    "lasso.err <- mean((lasso.pred - test_y)^2)\n",
    "lasso.err"
   ]
  },
  {
   "cell_type": "code",
   "execution_count": 106,
   "id": "40a7d34c",
   "metadata": {},
   "outputs": [
    {
     "data": {
      "text/plain": [
       "19 x 1 sparse Matrix of class \"dgCMatrix\"\n",
       "                        1\n",
       "(Intercept) -7.900150e+02\n",
       "(Intercept)  .           \n",
       "PrivateYes  -3.070140e+02\n",
       "Accept       1.779318e+00\n",
       "Enroll      -1.469416e+00\n",
       "Top10perc    6.672089e+01\n",
       "Top25perc   -2.230343e+01\n",
       "F.Undergrad  9.257670e-02\n",
       "P.Undergrad  9.410220e-03\n",
       "Outstate    -1.083469e-01\n",
       "Room.Board   2.115124e-01\n",
       "Books        2.912111e-01\n",
       "Personal     6.118433e-03\n",
       "PhD         -1.547127e+01\n",
       "Terminal     6.408707e+00\n",
       "S.F.Ratio    2.282552e+01\n",
       "perc.alumni  1.130050e+00\n",
       "Expend       4.856662e-02\n",
       "Grad.Rate    7.487748e+00"
      ]
     },
     "metadata": {},
     "output_type": "display_data"
    }
   ],
   "source": [
    "predict(lasso.mod, s = lambda.best, type=\"coefficients\")"
   ]
  },
  {
   "cell_type": "code",
   "execution_count": 107,
   "id": "91a7eb10",
   "metadata": {},
   "outputs": [
    {
     "data": {
      "image/png": "[encoded data removed]",
      "text/plain": [
       "Plot with title \"Apps\""
      ]
     },
     "metadata": {},
     "output_type": "display_data"
    }
   ],
   "source": [
    "#Part e \n",
    "library(pls)\n",
    "\n",
    "pcr.fit <- pcr(Apps ~ ., data = train, scale = TRUE, validation = \"CV\")\n",
    "validationplot(pcr.fit, val.type=\"MSEP\")"
   ]
  },
  {
   "cell_type": "code",
   "execution_count": 108,
   "id": "022aad0b",
   "metadata": {},
   "outputs": [
    {
     "data": {
      "text/html": [
       "1723099.66875613"
      ],
      "text/latex": [
       "1723099.66875613"
      ],
      "text/markdown": [
       "1723099.66875613"
      ],
      "text/plain": [
       "[1] 1723100"
      ]
     },
     "metadata": {},
     "output_type": "display_data"
    }
   ],
   "source": [
    "pcr.pred <- predict(pcr.fit, test, ncomp=10)\n",
    "pcr.err <- mean((pcr.pred - test_y)^2)\n",
    "pcr.err"
   ]
  },
  {
   "cell_type": "code",
   "execution_count": 109,
   "id": "844e0bfe",
   "metadata": {},
   "outputs": [
    {
     "data": {
      "image/png": "[encoded data removed]",
      "text/plain": [
       "Plot with title \"Apps\""
      ]
     },
     "metadata": {},
     "output_type": "display_data"
    }
   ],
   "source": [
    "#Part f \n",
    "pls.fit <- plsr(Apps ~ ., data = train, scale = TRUE, validation = \"CV\")\n",
    "validationplot(pls.fit, val.type = \"MSEP\")"
   ]
  },
  {
   "cell_type": "code",
   "execution_count": 110,
   "id": "a2c4e05b",
   "metadata": {},
   "outputs": [
    {
     "data": {
      "text/html": [
       "1131660.81805029"
      ],
      "text/latex": [
       "1131660.81805029"
      ],
      "text/markdown": [
       "1131660.81805029"
      ],
      "text/plain": [
       "[1] 1131661"
      ]
     },
     "metadata": {},
     "output_type": "display_data"
    }
   ],
   "source": [
    "pls.pred <- predict(pls.fit, test, ncomp = 10)\n",
    "pls.err <- mean((pls.pred - test_y)^2)\n",
    "pls.err"
   ]
  },
  {
   "cell_type": "code",
   "execution_count": 111,
   "id": "2cfe78e0",
   "metadata": {},
   "outputs": [
    {
     "data": {
      "text/html": [
       "0.901541307946257"
      ],
      "text/latex": [
       "0.901541307946257"
      ],
      "text/markdown": [
       "0.901541307946257"
      ],
      "text/plain": [
       "[1] 0.9015413"
      ]
     },
     "metadata": {},
     "output_type": "display_data"
    },
    {
     "data": {
      "text/html": [
       "0.899065346274286"
      ],
      "text/latex": [
       "0.899065346274286"
      ],
      "text/markdown": [
       "0.899065346274286"
      ],
      "text/plain": [
       "[1] 0.8990653"
      ]
     },
     "metadata": {},
     "output_type": "display_data"
    },
    {
     "data": {
      "text/html": [
       "0.901551017517672"
      ],
      "text/latex": [
       "0.901551017517672"
      ],
      "text/markdown": [
       "0.901551017517672"
      ],
      "text/plain": [
       "[1] 0.901551"
      ]
     },
     "metadata": {},
     "output_type": "display_data"
    },
    {
     "data": {
      "text/html": [
       "0.850624787861532"
      ],
      "text/latex": [
       "0.850624787861532"
      ],
      "text/markdown": [
       "0.850624787861532"
      ],
      "text/plain": [
       "[1] 0.8506248"
      ]
     },
     "metadata": {},
     "output_type": "display_data"
    },
    {
     "data": {
      "text/html": [
       "0.901896519493221"
      ],
      "text/latex": [
       "0.901896519493221"
      ],
      "text/markdown": [
       "0.901896519493221"
      ],
      "text/plain": [
       "[1] 0.9018965"
      ]
     },
     "metadata": {},
     "output_type": "display_data"
    }
   ],
   "source": [
    "#Part g\n",
    "test.avg <- mean(test$Apps)\n",
    "lm.r2 <- 1 - mean((lm_pred - test$Apps)^2) / mean((test.avg - test$Apps)^2)\n",
    "ridge.r2 <- 1 - mean((ridge.pred - test$Apps)^2) / mean((test.avg - test$Apps)^2)\n",
    "lasso.r2 <- 1 - mean((lasso.pred - test$Apps)^2) / mean((test.avg - test$Apps)^2)\n",
    "pcr.r2 <- 1 - mean((pcr.pred - test$Apps)^2) / mean((test.avg - test$Apps)^2)\n",
    "pls.r2 <- 1 - mean((pls.pred - test$Apps)^2) / mean((test.avg - test$Apps)^2)\n",
    "\n",
    "lm.r2\n",
    "ridge.r2\n",
    "lasso.r2\n",
    "pcr.r2\n",
    "pls.r2\n",
    "\n",
    "#According to the below results, the PCR model has the lowest accuracy for predicting the college applications, noting that\n",
    "#there wasn't a big difference among the test error results from the five approaches."
   ]
  },
  {
   "cell_type": "markdown",
   "id": "3d1c810b",
   "metadata": {},
   "source": [
    "### Chapter 7 - Exercise 9"
   ]
  },
  {
   "cell_type": "code",
   "execution_count": 112,
   "id": "75099988",
   "metadata": {},
   "outputs": [
    {
     "data": {
      "text/plain": [
       "\n",
       "Call:\n",
       "lm(formula = nox ~ poly(dis, 3), data = Boston)\n",
       "\n",
       "Residuals:\n",
       "      Min        1Q    Median        3Q       Max \n",
       "-0.121130 -0.040619 -0.009738  0.023385  0.194904 \n",
       "\n",
       "Coefficients:\n",
       "               Estimate Std. Error t value Pr(>|t|)    \n",
       "(Intercept)    0.554695   0.002759 201.021  < 2e-16 ***\n",
       "poly(dis, 3)1 -2.003096   0.062071 -32.271  < 2e-16 ***\n",
       "poly(dis, 3)2  0.856330   0.062071  13.796  < 2e-16 ***\n",
       "poly(dis, 3)3 -0.318049   0.062071  -5.124 4.27e-07 ***\n",
       "---\n",
       "Signif. codes:  0 '***' 0.001 '**' 0.01 '*' 0.05 '.' 0.1 ' ' 1\n",
       "\n",
       "Residual standard error: 0.06207 on 502 degrees of freedom\n",
       "Multiple R-squared:  0.7148,\tAdjusted R-squared:  0.7131 \n",
       "F-statistic: 419.3 on 3 and 502 DF,  p-value: < 2.2e-16\n"
      ]
     },
     "metadata": {},
     "output_type": "display_data"
    }
   ],
   "source": [
    "#Part a\n",
    "library(MASS)\n",
    "data(Boston)\n",
    "\n",
    "fit <- lm(nox ~ poly(dis, 3), data = Boston)\n",
    "summary(fit)"
   ]
  },
  {
   "cell_type": "code",
   "execution_count": 113,
   "id": "1855d029",
   "metadata": {},
   "outputs": [
    {
     "data": {
      "image/png": "[encoded data removed]",
      "text/plain": [
       "plot without title"
      ]
     },
     "metadata": {},
     "output_type": "display_data"
    }
   ],
   "source": [
    "dis.grid <- seq(min(Boston$dis), max(Boston$dis), by = 0.1)\n",
    "preds <- predict(fit, list(dis = dis.grid), se = TRUE)\n",
    "se.bands <- cbind(preds$fit + 2*preds$se.fit, preds$fit - 2*preds$se.fit)\n",
    "plot(nox ~ dis, data = Boston, col = \"darkgrey\")\n",
    "lines(dis.grid, preds$fit, lwd = 2, col = \"blue\")\n",
    "matlines(dis.grid, se.bands, lwd = 1, col = \"blue\", lty = 3)"
   ]
  },
  {
   "cell_type": "code",
   "execution_count": 114,
   "id": "0b6a1415",
   "metadata": {},
   "outputs": [],
   "source": [
    "#Part b"
   ]
  },
  {
   "cell_type": "code",
   "execution_count": 115,
   "id": "5c29c86e",
   "metadata": {},
   "outputs": [],
   "source": [
    "#Part c"
   ]
  },
  {
   "cell_type": "code",
   "execution_count": 116,
   "id": "200f89a6",
   "metadata": {},
   "outputs": [
    {
     "data": {
      "text/plain": [
       "\n",
       "Call:\n",
       "lm(formula = nox ~ bs(dis, df = 4), data = Boston)\n",
       "\n",
       "Residuals:\n",
       "      Min        1Q    Median        3Q       Max \n",
       "-0.124622 -0.039259 -0.008514  0.020850  0.193891 \n",
       "\n",
       "Coefficients:\n",
       "                 Estimate Std. Error t value Pr(>|t|)    \n",
       "(Intercept)       0.73447    0.01460  50.306  < 2e-16 ***\n",
       "bs(dis, df = 4)1 -0.05810    0.02186  -2.658  0.00812 ** \n",
       "bs(dis, df = 4)2 -0.46356    0.02366 -19.596  < 2e-16 ***\n",
       "bs(dis, df = 4)3 -0.19979    0.04311  -4.634 4.58e-06 ***\n",
       "bs(dis, df = 4)4 -0.38881    0.04551  -8.544  < 2e-16 ***\n",
       "---\n",
       "Signif. codes:  0 '***' 0.001 '**' 0.01 '*' 0.05 '.' 0.1 ' ' 1\n",
       "\n",
       "Residual standard error: 0.06195 on 501 degrees of freedom\n",
       "Multiple R-squared:  0.7164,\tAdjusted R-squared:  0.7142 \n",
       "F-statistic: 316.5 on 4 and 501 DF,  p-value: < 2.2e-16\n"
      ]
     },
     "metadata": {},
     "output_type": "display_data"
    },
    {
     "data": {
      "text/html": [
       "<strong>50%:</strong> 3.20745"
      ],
      "text/latex": [
       "\\textbf{50\\textbackslash{}\\%:} 3.20745"
      ],
      "text/markdown": [
       "**50%:** 3.20745"
      ],
      "text/plain": [
       "    50% \n",
       "3.20745 "
      ]
     },
     "metadata": {},
     "output_type": "display_data"
    }
   ],
   "source": [
    "#Part d\n",
    "library(splines)\n",
    "fit_splines <- lm(nox ~ bs(dis, df = 4), data = Boston)\n",
    "summary(fit_splines)\n",
    "attr(bs(Boston$dis, df = 4), \"knots\")"
   ]
  },
  {
   "cell_type": "code",
   "execution_count": 117,
   "id": "3427c4eb",
   "metadata": {},
   "outputs": [
    {
     "data": {
      "image/png": "[encoded data removed]",
      "text/plain": [
       "plot without title"
      ]
     },
     "metadata": {},
     "output_type": "display_data"
    }
   ],
   "source": [
    "preds <- predict(fit_splines, list(dis = dis.grid), se = TRUE)\n",
    "se.bands <- cbind(preds$fit + 2*preds$se.fit, preds$fit - 2*preds$se.fit)\n",
    "plot(nox ~ dis, data = Boston, col = \"darkgrey\")\n",
    "lines(dis.grid, preds$fit, lwd = 2, col = \"blue\")\n",
    "matlines(dis.grid, se.bands, lwd = 1, col = \"blue\", lty = 3)"
   ]
  },
  {
   "cell_type": "code",
   "execution_count": 118,
   "id": "e80f6eb1",
   "metadata": {},
   "outputs": [],
   "source": [
    "#Part e"
   ]
  },
  {
   "cell_type": "code",
   "execution_count": 119,
   "id": "51da2a38",
   "metadata": {},
   "outputs": [],
   "source": [
    "#Part f "
   ]
  },
  {
   "cell_type": "markdown",
   "id": "dcb82900",
   "metadata": {},
   "source": [
    "### Chapter 7 - Exercise 10"
   ]
  },
  {
   "cell_type": "code",
   "execution_count": 120,
   "id": "c88485f4",
   "metadata": {},
   "outputs": [
    {
     "data": {
      "text/plain": [
       "Subset selection object\n",
       "Call: regsubsets.formula(Outstate ~ ., data = train, method = \"forward\")\n",
       "17 Variables  (and intercept)\n",
       "            Forced in Forced out\n",
       "PrivateYes      FALSE      FALSE\n",
       "Apps            FALSE      FALSE\n",
       "Accept          FALSE      FALSE\n",
       "Enroll          FALSE      FALSE\n",
       "Top10perc       FALSE      FALSE\n",
       "Top25perc       FALSE      FALSE\n",
       "F.Undergrad     FALSE      FALSE\n",
       "P.Undergrad     FALSE      FALSE\n",
       "Room.Board      FALSE      FALSE\n",
       "Books           FALSE      FALSE\n",
       "Personal        FALSE      FALSE\n",
       "PhD             FALSE      FALSE\n",
       "Terminal        FALSE      FALSE\n",
       "S.F.Ratio       FALSE      FALSE\n",
       "perc.alumni     FALSE      FALSE\n",
       "Expend          FALSE      FALSE\n",
       "Grad.Rate       FALSE      FALSE\n",
       "1 subsets of each size up to 8\n",
       "Selection Algorithm: forward\n",
       "         PrivateYes Apps Accept Enroll Top10perc Top25perc F.Undergrad\n",
       "1  ( 1 ) \" \"        \" \"  \" \"    \" \"    \" \"       \" \"       \" \"        \n",
       "2  ( 1 ) \"*\"        \" \"  \" \"    \" \"    \" \"       \" \"       \" \"        \n",
       "3  ( 1 ) \"*\"        \" \"  \" \"    \" \"    \" \"       \" \"       \" \"        \n",
       "4  ( 1 ) \"*\"        \" \"  \" \"    \" \"    \" \"       \" \"       \" \"        \n",
       "5  ( 1 ) \"*\"        \" \"  \" \"    \" \"    \" \"       \" \"       \" \"        \n",
       "6  ( 1 ) \"*\"        \" \"  \" \"    \" \"    \" \"       \" \"       \" \"        \n",
       "7  ( 1 ) \"*\"        \" \"  \" \"    \" \"    \" \"       \" \"       \" \"        \n",
       "8  ( 1 ) \"*\"        \" \"  \"*\"    \" \"    \" \"       \" \"       \" \"        \n",
       "         P.Undergrad Room.Board Books Personal PhD Terminal S.F.Ratio\n",
       "1  ( 1 ) \" \"         \" \"        \" \"   \" \"      \" \" \" \"      \" \"      \n",
       "2  ( 1 ) \" \"         \" \"        \" \"   \" \"      \" \" \" \"      \" \"      \n",
       "3  ( 1 ) \" \"         \"*\"        \" \"   \" \"      \" \" \" \"      \" \"      \n",
       "4  ( 1 ) \" \"         \"*\"        \" \"   \" \"      \" \" \" \"      \" \"      \n",
       "5  ( 1 ) \" \"         \"*\"        \" \"   \" \"      \" \" \"*\"      \" \"      \n",
       "6  ( 1 ) \" \"         \"*\"        \" \"   \" \"      \" \" \"*\"      \" \"      \n",
       "7  ( 1 ) \" \"         \"*\"        \" \"   \" \"      \" \" \"*\"      \"*\"      \n",
       "8  ( 1 ) \" \"         \"*\"        \" \"   \" \"      \" \" \"*\"      \"*\"      \n",
       "         perc.alumni Expend Grad.Rate\n",
       "1  ( 1 ) \" \"         \"*\"    \" \"      \n",
       "2  ( 1 ) \" \"         \"*\"    \" \"      \n",
       "3  ( 1 ) \" \"         \"*\"    \" \"      \n",
       "4  ( 1 ) \"*\"         \"*\"    \" \"      \n",
       "5  ( 1 ) \"*\"         \"*\"    \" \"      \n",
       "6  ( 1 ) \"*\"         \"*\"    \"*\"      \n",
       "7  ( 1 ) \"*\"         \"*\"    \"*\"      \n",
       "8  ( 1 ) \"*\"         \"*\"    \"*\"      "
      ]
     },
     "metadata": {},
     "output_type": "display_data"
    }
   ],
   "source": [
    "#Part a\n",
    "library(ISLR)\n",
    "library(leaps)\n",
    "\n",
    "data_split <- sample(1:nrow(College), nrow(College)/2)\n",
    "train <- College[data_split,]\n",
    "test <- College[-data_split,]\n",
    "fit <- regsubsets(Outstate ~ ., data = train, method = 'forward')\n",
    "fit.summary <- summary(fit)\n",
    "fit.summary"
   ]
  },
  {
   "cell_type": "code",
   "execution_count": 121,
   "id": "5df09daf",
   "metadata": {},
   "outputs": [
    {
     "data": {
      "text/html": [
       "<dl class=dl-horizontal>\n",
       "\t<dt>(Intercept)</dt>\n",
       "\t\t<dd>-838.454971074869</dd>\n",
       "\t<dt>PrivateYes</dt>\n",
       "\t\t<dd>2022.87657003768</dd>\n",
       "\t<dt>Room.Board</dt>\n",
       "\t\t<dd>1.13508877877137</dd>\n",
       "\t<dt>perc.alumni</dt>\n",
       "\t\t<dd>88.7314452084867</dd>\n",
       "\t<dt>Expend</dt>\n",
       "\t\t<dd>0.28000354230883</dd>\n",
       "</dl>\n"
      ],
      "text/latex": [
       "\\begin{description*}\n",
       "\\item[(Intercept)] -838.454971074869\n",
       "\\item[PrivateYes] 2022.87657003768\n",
       "\\item[Room.Board] 1.13508877877137\n",
       "\\item[perc.alumni] 88.7314452084867\n",
       "\\item[Expend] 0.28000354230883\n",
       "\\end{description*}\n"
      ],
      "text/markdown": [
       "(Intercept)\n",
       ":   -838.454971074869PrivateYes\n",
       ":   2022.87657003768Room.Board\n",
       ":   1.13508877877137perc.alumni\n",
       ":   88.7314452084867Expend\n",
       ":   0.28000354230883\n",
       "\n"
      ],
      "text/plain": [
       " (Intercept)   PrivateYes   Room.Board  perc.alumni       Expend \n",
       "-838.4549711 2022.8765700    1.1350888   88.7314452    0.2800035 "
      ]
     },
     "metadata": {},
     "output_type": "display_data"
    }
   ],
   "source": [
    "coef(fit, id = 4)"
   ]
  },
  {
   "cell_type": "code",
   "execution_count": 122,
   "id": "2566e9a1",
   "metadata": {},
   "outputs": [
    {
     "name": "stderr",
     "output_type": "stream",
     "text": [
      "Warning message in model.matrix.default(mt, mf, contrasts):\n",
      "\"non-list contrasts argument ignored\""
     ]
    },
    {
     "data": {
      "image/png": "[encoded data removed]",
      "text/plain": [
       "plot without title"
      ]
     },
     "metadata": {},
     "output_type": "display_data"
    }
   ],
   "source": [
    "#Part b\n",
    "library(gam)\n",
    "gam.mod <- gam(Outstate ~ Private + s(Room.Board, 5) + s(perc.alumni, 5) + s(Expend, 5), data = train)\n",
    "par(mfrow = c(2,3))\n",
    "plot(gam.mod, se = TRUE, col = 'blue')"
   ]
  },
  {
   "cell_type": "code",
   "execution_count": 123,
   "id": "519519a8",
   "metadata": {},
   "outputs": [],
   "source": [
    "#According to the above plots, Expend has a non-linear relationship with Outstate, where as Room.Board and perc.alumni are\n",
    "#somewhat linear"
   ]
  },
  {
   "cell_type": "code",
   "execution_count": 124,
   "id": "d85ab652",
   "metadata": {},
   "outputs": [],
   "source": [
    "#Part c"
   ]
  },
  {
   "cell_type": "code",
   "execution_count": 125,
   "id": "4cde7cee",
   "metadata": {},
   "outputs": [
    {
     "data": {
      "text/plain": [
       "\n",
       "Call: gam(formula = Outstate ~ Private + s(Room.Board, 5) + s(perc.alumni, \n",
       "    5) + s(Expend, 5), data = train)\n",
       "Deviance Residuals:\n",
       "     Min       1Q   Median       3Q      Max \n",
       "-5324.13 -1142.08    71.36  1248.18  6285.61 \n",
       "\n",
       "(Dispersion Parameter for gaussian family taken to be 3339375)\n",
       "\n",
       "    Null Deviance: 5866654684 on 387 degrees of freedom\n",
       "Residual Deviance: 1238907500 on 370.9998 degrees of freedom\n",
       "AIC: 6947.975 \n",
       "\n",
       "Number of Local Scoring Iterations: 2 \n",
       "\n",
       "Anova for Parametric Effects\n",
       "                   Df     Sum Sq    Mean Sq F value    Pr(>F)    \n",
       "Private             1 1499117286 1499117286  448.92 < 2.2e-16 ***\n",
       "s(Room.Board, 5)    1 1079423051 1079423051  323.24 < 2.2e-16 ***\n",
       "s(perc.alumni, 5)   1  586011550  586011550  175.49 < 2.2e-16 ***\n",
       "s(Expend, 5)        1  759963623  759963623  227.58 < 2.2e-16 ***\n",
       "Residuals         371 1238907500    3339375                      \n",
       "---\n",
       "Signif. codes:  0 '***' 0.001 '**' 0.01 '*' 0.05 '.' 0.1 ' ' 1\n",
       "\n",
       "Anova for Nonparametric Effects\n",
       "                  Npar Df  Npar F     Pr(F)    \n",
       "(Intercept)                                    \n",
       "Private                                        \n",
       "s(Room.Board, 5)        4  0.8746    0.4792    \n",
       "s(perc.alumni, 5)       4  1.1700    0.3236    \n",
       "s(Expend, 5)            4 18.6524 5.551e-14 ***\n",
       "---\n",
       "Signif. codes:  0 '***' 0.001 '**' 0.01 '*' 0.05 '.' 0.1 ' ' 1"
      ]
     },
     "metadata": {},
     "output_type": "display_data"
    }
   ],
   "source": [
    "#Part d\n",
    "summary(gam.mod)\n",
    "#The below results show that Expend has a non-linear relationship with Outstate, which is what we saw in Part b."
   ]
  }
 ],
 "metadata": {
  "kernelspec": {
   "display_name": "R",
   "language": "R",
   "name": "ir"
  },
  "language_info": {
   "codemirror_mode": "r",
   "file_extension": ".r",
   "mimetype": "text/x-r-source",
   "name": "R",
   "pygments_lexer": "r",
   "version": "3.6.1"
  }
 },
 "nbformat": 4,
 "nbformat_minor": 5
}
